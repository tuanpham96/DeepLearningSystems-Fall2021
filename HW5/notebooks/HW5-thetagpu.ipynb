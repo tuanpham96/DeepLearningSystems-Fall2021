{
 "cells": [
  {
   "cell_type": "code",
   "execution_count": 1,
   "id": "617cb7fd",
   "metadata": {},
   "outputs": [
    {
     "name": "stdout",
     "output_type": "stream",
     "text": [
      "/gpfs/mira-home/tpham/DeepLearningSystems-Fall2021/HW5\r\n"
     ]
    }
   ],
   "source": [
    "!pwd"
   ]
  },
  {
   "cell_type": "code",
   "execution_count": 2,
   "id": "8f256036",
   "metadata": {},
   "outputs": [
    {
     "name": "stderr",
     "output_type": "stream",
     "text": [
      "2021-11-03 17:09:27.597335: I tensorflow/stream_executor/platform/default/dso_loader.cc:49] Successfully opened dynamic library libcudart.so.11.0\n"
     ]
    }
   ],
   "source": [
    "from datetime import datetime\n",
    "from src.routines import *"
   ]
  },
  {
   "cell_type": "code",
   "execution_count": 3,
   "id": "61dba984",
   "metadata": {},
   "outputs": [],
   "source": [
    "DATA_PATH = 'data/eng_spa_translations'\n",
    "OUTPUT_PATH = 'output'\n",
    "TRAIN_FILENAME = 'spa.txt'\n",
    "URL_NONBREAKING_FILES = ['nonbreaking_prefix.en', 'nonbreaking_prefix.es']"
   ]
  },
  {
   "cell_type": "code",
   "execution_count": 4,
   "id": "d8be7ae7",
   "metadata": {},
   "outputs": [],
   "source": [
    "data_files = configure_datafiles(\n",
    "    data_path               = DATA_PATH, \n",
    "    train_filename          = TRAIN_FILENAME, \n",
    "    nonbreaking_filenames   = URL_NONBREAKING_FILES\n",
    ")\n",
    "\n",
    "model_config = dict(    \n",
    "    d_model                 = 512,\n",
    "    n_layers                = 4,\n",
    "    FFN_units               = 512,\n",
    "    n_heads                 = 8,\n",
    "    dropout_rate            = 0.1,\n",
    "    act_fun                 = 'relu',\n",
    ")"
   ]
  },
  {
   "cell_type": "code",
   "execution_count": 5,
   "id": "e9bcecb5",
   "metadata": {},
   "outputs": [
    {
     "name": "stderr",
     "output_type": "stream",
     "text": [
      "2021-11-03 17:10:21.814696: I tensorflow/compiler/jit/xla_cpu_device.cc:41] Not creating XLA devices, tf_xla_enable_xla_devices not set\n",
      "2021-11-03 17:10:21.815738: I tensorflow/stream_executor/platform/default/dso_loader.cc:49] Successfully opened dynamic library libcuda.so.1\n",
      "2021-11-03 17:10:21.931648: I tensorflow/core/common_runtime/gpu/gpu_device.cc:1720] Found device 0 with properties: \n",
      "pciBusID: 0000:87:00.0 name: A100-SXM4-40GB computeCapability: 8.0\n",
      "coreClock: 1.41GHz coreCount: 108 deviceMemorySize: 39.59GiB deviceMemoryBandwidth: 1.41TiB/s\n",
      "2021-11-03 17:10:21.931682: I tensorflow/stream_executor/platform/default/dso_loader.cc:49] Successfully opened dynamic library libcudart.so.11.0\n",
      "2021-11-03 17:10:21.934361: I tensorflow/stream_executor/platform/default/dso_loader.cc:49] Successfully opened dynamic library libcublas.so.11\n",
      "2021-11-03 17:10:21.934390: I tensorflow/stream_executor/platform/default/dso_loader.cc:49] Successfully opened dynamic library libcublasLt.so.11\n",
      "2021-11-03 17:10:21.935019: I tensorflow/stream_executor/platform/default/dso_loader.cc:49] Successfully opened dynamic library libcufft.so.10\n",
      "2021-11-03 17:10:21.935191: I tensorflow/stream_executor/platform/default/dso_loader.cc:49] Successfully opened dynamic library libcurand.so.10\n",
      "2021-11-03 17:10:21.935509: I tensorflow/stream_executor/platform/default/dso_loader.cc:49] Successfully opened dynamic library libcusolver.so.11\n",
      "2021-11-03 17:10:21.936086: I tensorflow/stream_executor/platform/default/dso_loader.cc:49] Successfully opened dynamic library libcusparse.so.11\n",
      "2021-11-03 17:10:21.936674: I tensorflow/stream_executor/platform/default/dso_loader.cc:49] Successfully opened dynamic library libcudnn.so.8\n",
      "2021-11-03 17:10:21.941197: I tensorflow/core/common_runtime/gpu/gpu_device.cc:1862] Adding visible gpu devices: 0\n",
      "2021-11-03 17:10:21.941667: I tensorflow/core/platform/cpu_feature_guard.cc:142] This TensorFlow binary is optimized with oneAPI Deep Neural Network Library (oneDNN) to use the following CPU instructions in performance-critical operations:  SSE3 SSE4.1 SSE4.2 AVX AVX2 FMA\n",
      "To enable them in other operations, rebuild TensorFlow with the appropriate compiler flags.\n",
      "2021-11-03 17:10:21.945135: I tensorflow/core/common_runtime/gpu/gpu_device.cc:1720] Found device 0 with properties: \n",
      "pciBusID: 0000:87:00.0 name: A100-SXM4-40GB computeCapability: 8.0\n",
      "coreClock: 1.41GHz coreCount: 108 deviceMemorySize: 39.59GiB deviceMemoryBandwidth: 1.41TiB/s\n",
      "2021-11-03 17:10:21.945152: I tensorflow/stream_executor/platform/default/dso_loader.cc:49] Successfully opened dynamic library libcudart.so.11.0\n",
      "2021-11-03 17:10:21.945162: I tensorflow/stream_executor/platform/default/dso_loader.cc:49] Successfully opened dynamic library libcublas.so.11\n",
      "2021-11-03 17:10:21.945171: I tensorflow/stream_executor/platform/default/dso_loader.cc:49] Successfully opened dynamic library libcublasLt.so.11\n",
      "2021-11-03 17:10:21.945178: I tensorflow/stream_executor/platform/default/dso_loader.cc:49] Successfully opened dynamic library libcufft.so.10\n",
      "2021-11-03 17:10:21.945186: I tensorflow/stream_executor/platform/default/dso_loader.cc:49] Successfully opened dynamic library libcurand.so.10\n",
      "2021-11-03 17:10:21.945194: I tensorflow/stream_executor/platform/default/dso_loader.cc:49] Successfully opened dynamic library libcusolver.so.11\n",
      "2021-11-03 17:10:21.945202: I tensorflow/stream_executor/platform/default/dso_loader.cc:49] Successfully opened dynamic library libcusparse.so.11\n",
      "2021-11-03 17:10:21.945209: I tensorflow/stream_executor/platform/default/dso_loader.cc:49] Successfully opened dynamic library libcudnn.so.8\n",
      "2021-11-03 17:10:21.949677: I tensorflow/core/common_runtime/gpu/gpu_device.cc:1862] Adding visible gpu devices: 0\n",
      "2021-11-03 17:10:21.949704: I tensorflow/stream_executor/platform/default/dso_loader.cc:49] Successfully opened dynamic library libcudart.so.11.0\n",
      "2021-11-03 17:10:22.339181: I tensorflow/core/common_runtime/gpu/gpu_device.cc:1261] Device interconnect StreamExecutor with strength 1 edge matrix:\n",
      "2021-11-03 17:10:22.339224: I tensorflow/core/common_runtime/gpu/gpu_device.cc:1267]      0 \n",
      "2021-11-03 17:10:22.339232: I tensorflow/core/common_runtime/gpu/gpu_device.cc:1280] 0:   N \n",
      "2021-11-03 17:10:22.345880: I tensorflow/core/common_runtime/gpu/gpu_device.cc:1406] Created TensorFlow device (/job:localhost/replica:0/task:0/device:GPU:0 with 37587 MB memory) -> physical GPU (device: 0, name: A100-SXM4-40GB, pci bus id: 0000:87:00.0, compute capability: 8.0)\n",
      "2021-11-03 17:10:22.346083: I tensorflow/compiler/jit/xla_gpu_device.cc:99] Not creating XLA devices, tf_xla_enable_xla_devices not set\n"
     ]
    }
   ],
   "source": [
    "# Load and tranform data \n",
    "dataset, token_dset = load_datasets(data_files) \n",
    "\n",
    "# Clean the session\n",
    "tf.keras.backend.clear_session()  "
   ]
  },
  {
   "cell_type": "code",
   "execution_count": 6,
   "id": "d701e8b1",
   "metadata": {},
   "outputs": [
    {
     "name": "stderr",
     "output_type": "stream",
     "text": [
      "2021-11-03 17:10:22.697260: I tensorflow/core/profiler/lib/profiler_session.cc:136] Profiler session initializing.\n",
      "2021-11-03 17:10:22.697305: I tensorflow/core/profiler/lib/profiler_session.cc:155] Profiler session started.\n",
      "2021-11-03 17:10:22.697328: I tensorflow/core/profiler/internal/gpu/cupti_tracer.cc:1365] Profiler found 1 GPUs\n",
      "2021-11-03 17:10:22.698114: I tensorflow/stream_executor/platform/default/dso_loader.cc:49] Successfully opened dynamic library libcupti.so.11.3\n",
      "2021-11-03 17:10:22.819685: I tensorflow/core/profiler/lib/profiler_session.cc:172] Profiler session tear down.\n",
      "2021-11-03 17:10:22.819819: I tensorflow/core/profiler/internal/gpu/cupti_tracer.cc:1487] CUPTI activity buffer flushed\n"
     ]
    },
    {
     "name": "stdout",
     "output_type": "stream",
     "text": [
      "Epoch 1/2\n"
     ]
    },
    {
     "name": "stderr",
     "output_type": "stream",
     "text": [
      "2021-11-03 17:10:27.579101: I tensorflow/compiler/mlir/mlir_graph_optimization_pass.cc:116] None of the MLIR optimization passes are enabled (registered 2)\n",
      "2021-11-03 17:10:27.631726: I tensorflow/core/platform/profile_utils/cpu_utils.cc:112] CPU Frequency: 2245865000 Hz\n",
      "2021-11-03 17:10:28.652717: I tensorflow/stream_executor/platform/default/dso_loader.cc:49] Successfully opened dynamic library libcublas.so.11\n"
     ]
    },
    {
     "name": "stdout",
     "output_type": "stream",
     "text": [
      "   1/1250 [..............................] - ETA: 2:16:28 - loss: 4.8299 - train_accuracy: 0.0000e+00"
     ]
    },
    {
     "name": "stderr",
     "output_type": "stream",
     "text": [
      "2021-11-03 17:10:29.339535: I tensorflow/stream_executor/platform/default/dso_loader.cc:49] Successfully opened dynamic library libcublasLt.so.11\n",
      "2021-11-03 17:10:29.353433: I tensorflow/stream_executor/cuda/cuda_blas.cc:1838] TensorFloat-32 will be used for the matrix multiplication. This will only be logged once.\n"
     ]
    },
    {
     "name": "stdout",
     "output_type": "stream",
     "text": [
      " 501/1250 [===========>..................] - ETA: 46s - loss: 4.0342 - train_accuracy: 0.0792"
     ]
    },
    {
     "name": "stderr",
     "output_type": "stream",
     "text": [
      "2021-11-03 17:10:59.682594: I tensorflow/core/profiler/lib/profiler_session.cc:136] Profiler session initializing.\n",
      "2021-11-03 17:10:59.682645: I tensorflow/core/profiler/lib/profiler_session.cc:155] Profiler session started.\n"
     ]
    },
    {
     "name": "stdout",
     "output_type": "stream",
     "text": [
      " 523/1250 [===========>..................] - ETA: 48s - loss: 4.0041 - train_accuracy: 0.0813"
     ]
    },
    {
     "name": "stderr",
     "output_type": "stream",
     "text": [
      "2021-11-03 17:11:01.541066: I tensorflow/core/profiler/lib/profiler_session.cc:71] Profiler session collecting data.\n",
      "2021-11-03 17:11:01.542631: I tensorflow/core/profiler/internal/gpu/cupti_tracer.cc:1487] CUPTI activity buffer flushed\n",
      "2021-11-03 17:11:01.749715: I tensorflow/core/profiler/internal/gpu/cupti_collector.cc:228]  GpuTracer has collected 35413 callback api events and 35241 activity events. \n",
      "2021-11-03 17:11:02.513620: I tensorflow/core/profiler/lib/profiler_session.cc:172] Profiler session tear down.\n",
      "2021-11-03 17:11:03.054908: I tensorflow/core/profiler/rpc/client/save_profile.cc:137] Creating directory: logs/transformer-ThetaGPUBaseline_20211103-171022/train/plugins/profile/2021_11_03_17_11_02\n",
      "2021-11-03 17:11:03.755640: I tensorflow/core/profiler/rpc/client/save_profile.cc:143] Dumped gzipped tool data for trace.json.gz to logs/transformer-ThetaGPUBaseline_20211103-171022/train/plugins/profile/2021_11_03_17_11_02/thetagpu05.trace.json.gz\n",
      "2021-11-03 17:11:04.185258: I tensorflow/core/profiler/rpc/client/save_profile.cc:137] Creating directory: logs/transformer-ThetaGPUBaseline_20211103-171022/train/plugins/profile/2021_11_03_17_11_02\n",
      "2021-11-03 17:11:04.194969: I tensorflow/core/profiler/rpc/client/save_profile.cc:143] Dumped gzipped tool data for memory_profile.json.gz to logs/transformer-ThetaGPUBaseline_20211103-171022/train/plugins/profile/2021_11_03_17_11_02/thetagpu05.memory_profile.json.gz\n",
      "2021-11-03 17:11:04.206527: I tensorflow/core/profiler/rpc/client/capture_profile.cc:251] Creating directory: logs/transformer-ThetaGPUBaseline_20211103-171022/train/plugins/profile/2021_11_03_17_11_02Dumped tool data for xplane.pb to logs/transformer-ThetaGPUBaseline_20211103-171022/train/plugins/profile/2021_11_03_17_11_02/thetagpu05.xplane.pb\n",
      "Dumped tool data for overview_page.pb to logs/transformer-ThetaGPUBaseline_20211103-171022/train/plugins/profile/2021_11_03_17_11_02/thetagpu05.overview_page.pb\n",
      "Dumped tool data for input_pipeline.pb to logs/transformer-ThetaGPUBaseline_20211103-171022/train/plugins/profile/2021_11_03_17_11_02/thetagpu05.input_pipeline.pb\n",
      "Dumped tool data for tensorflow_stats.pb to logs/transformer-ThetaGPUBaseline_20211103-171022/train/plugins/profile/2021_11_03_17_11_02/thetagpu05.tensorflow_stats.pb\n",
      "Dumped tool data for kernel_stats.pb to logs/transformer-ThetaGPUBaseline_20211103-171022/train/plugins/profile/2021_11_03_17_11_02/thetagpu05.kernel_stats.pb\n",
      "\n"
     ]
    },
    {
     "name": "stdout",
     "output_type": "stream",
     "text": [
      "1250/1250 [==============================] - 85s 63ms/step - loss: 3.3498 - train_accuracy: 0.1268\n",
      "Epoch 2/2\n",
      "1250/1250 [==============================] - 74s 59ms/step - loss: 1.6318 - train_accuracy: 0.2603\n"
     ]
    }
   ],
   "source": [
    "# Model name \n",
    "model_name = 'transformer-ThetaGPUBaseline'\n",
    "# Create model\n",
    "transformer = Transformer(\n",
    "    vocab_size_enc=token_dset['input']['num_words'], \n",
    "    vocab_size_dec=token_dset['target']['num_words'],\n",
    "    **model_config\n",
    ")\n",
    "# Compile model \n",
    "compile_model(transformer, model_config)\n",
    "# Fit with callbacks\n",
    "fit_model_with_callbacks(transformer, dataset, model_name, num_epochs=2)"
   ]
  },
  {
   "cell_type": "code",
   "execution_count": 7,
   "id": "dbe49da0",
   "metadata": {},
   "outputs": [],
   "source": [
    "%load_ext tensorboard"
   ]
  },
  {
   "cell_type": "markdown",
   "id": "df16f677",
   "metadata": {},
   "source": [
    "Instruction to view `TensorBoard` on `thetagpu` \n",
    "> TensorBoard runs on a different port than the jupyter engine, even if you use it directly as a cell in a notebook. To make it appear properly, we shall set up a dedicated ssh tunnel. After your jupyter running, and run the `%tensorboard --logdir=logs` cell twice. You will see it prints out a line with port info, say 6006. Then create a two-layer tunnel manually (do not change ssh config file, it's globally applied). For example:\n",
    "> \n",
    "> ``` bash\n",
    "> # from your local shell\n",
    "> ssh -L 5555:127.0.0.1:4545 theta\n",
    "> # from theta shell, suppose your jupyter runs on thetagpu05, and port info for tensorboard is 6006\n",
    "> ssh -L 4545:127.0.0.1:6006 thetagpu05 \n",
    "> ```\n",
    ">\n",
    "> reload `%tensorboard --logdir=logs` cell. Then go to `localhost:5555`"
   ]
  },
  {
   "cell_type": "code",
   "execution_count": 12,
   "id": "2c75c555",
   "metadata": {},
   "outputs": [],
   "source": [
    "%reload_ext tensorboard"
   ]
  },
  {
   "cell_type": "code",
   "execution_count": 13,
   "id": "431c9346",
   "metadata": {},
   "outputs": [
    {
     "data": {
      "text/plain": [
       "Reusing TensorBoard on port 6006 (pid 3886582), started 0:03:59 ago. (Use '!kill 3886582' to kill it.)"
      ]
     },
     "metadata": {},
     "output_type": "display_data"
    },
    {
     "data": {
      "text/html": [
       "\n",
       "      <iframe id=\"tensorboard-frame-9739273cc6105b82\" width=\"100%\" height=\"800\" frameborder=\"0\">\n",
       "      </iframe>\n",
       "      <script>\n",
       "        (function() {\n",
       "          const frame = document.getElementById(\"tensorboard-frame-9739273cc6105b82\");\n",
       "          const url = new URL(\"/\", window.location);\n",
       "          const port = 6006;\n",
       "          if (port) {\n",
       "            url.port = port;\n",
       "          }\n",
       "          frame.src = url;\n",
       "        })();\n",
       "      </script>\n",
       "    "
      ],
      "text/plain": [
       "<IPython.core.display.HTML object>"
      ]
     },
     "metadata": {},
     "output_type": "display_data"
    }
   ],
   "source": [
    "%tensorboard --logdir=logs"
   ]
  }
 ],
 "metadata": {
  "kernelspec": {
   "display_name": "jax",
   "language": "python",
   "name": "jax"
  },
  "language_info": {
   "codemirror_mode": {
    "name": "ipython",
    "version": 3
   },
   "file_extension": ".py",
   "mimetype": "text/x-python",
   "name": "python",
   "nbconvert_exporter": "python",
   "pygments_lexer": "ipython3",
   "version": "3.8.5"
  }
 },
 "nbformat": 4,
 "nbformat_minor": 5
}
